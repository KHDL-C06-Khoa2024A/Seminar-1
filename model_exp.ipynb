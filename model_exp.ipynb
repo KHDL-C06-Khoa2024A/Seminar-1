{
 "cells": [
  {
   "cell_type": "code",
   "execution_count": 1,
   "metadata": {},
   "outputs": [],
   "source": [
    "import joblib\n",
    "# from sklearn.externals import joblib\n",
    "import os\n",
    "import numpy as np\n",
    "import pandas as pd\n",
    "from sklearn.feature_extraction.text import TfidfVectorizer\n",
    "from text_preprocessing import text_preprocessing\n",
    "from get_keywords import get_topn_keywords_model"
   ]
  },
  {
   "cell_type": "code",
   "execution_count": 2,
   "metadata": {},
   "outputs": [],
   "source": [
    "models_path = '/Users/scottnguyen/Desktop/Project_06/vfnd-fake-news-experiences/Models'\n",
    "\n",
    "nb_text_1 = '/Users/scottnguyen/Desktop/Project_06/vfnd-fake-news-experiences/Models/MultiNB_clf_1.sav'\n",
    "nb_text_2 = '/Users/scottnguyen/Desktop/Project_06/vfnd-fake-news-experiences/Models/MultiNB_clf_2.sav'\n",
    "svm_text = '/Users/scottnguyen/Desktop/Project_06/vfnd-fake-news-experiences/Models/SVM_clf_1.sav'\n",
    "\n",
    "nb_textdomain_1 = '/Users/scottnguyen/Desktop/Project_06/vfnd-fake-news-experiences/Models/MultiNB_clf_textdomain_1.sav'\n",
    "nb_textdomain_2 = '/Users/scottnguyen/Desktop/Project_06/vfnd-fake-news-experiences/Models/MultiNB_clf_textdomain_2.sav'\n",
    "svm_textdomain = '/Users/scottnguyen/Desktop/Project_06/vfnd-fake-news-experiences/Models/SVM_clf_2.sav'"
   ]
  },
  {
   "cell_type": "markdown",
   "metadata": {},
   "source": [
    "## Test model dạng text"
   ]
  },
  {
   "cell_type": "code",
   "execution_count": 3,
   "metadata": {},
   "outputs": [],
   "source": [
    "text = 'CEO Facebook Việt Nam Lê Diệp Kiều Trang cho biết, hiện Ban giám đốc Facebook đang hoàn tất các thủ tục pháp lý để chuẩn bị thành lập văn phòng đại diện tại Việt Nam. Trước đó, tuy Facebook có một bộ phận quản lý Facebook người Việt dành riêng cho thị trường Việt Nam nhưng lại đóng tại trụ sở ở Singapore. Thì nay, việc chuyển văn phòng về Việt Nam sẽ giúp hỗ trợ tốt hơn cho các hoạt động của Facebook tại Việt Nam. Đặc biệt là các hoạt động kinh doanh quảng cáo và hỗ trợ doanh nghiệp, start-up Việt.'"
   ]
  },
  {
   "cell_type": "code",
   "execution_count": 12,
   "metadata": {},
   "outputs": [
    {
     "ename": "KeyError",
     "evalue": "0",
     "output_type": "error",
     "traceback": [
      "\u001b[0;31m---------------------------------------------------------------------------\u001b[0m",
      "\u001b[0;31mKeyError\u001b[0m                                  Traceback (most recent call last)",
      "Cell \u001b[0;32mIn[12], line 5\u001b[0m\n\u001b[1;32m      3\u001b[0m \u001b[38;5;28;01mimport\u001b[39;00m \u001b[38;5;21;01msys\u001b[39;00m\n\u001b[1;32m      4\u001b[0m sys\u001b[38;5;241m.\u001b[39mmodules[\u001b[38;5;124m'\u001b[39m\u001b[38;5;124msklearn.externals.joblib\u001b[39m\u001b[38;5;124m'\u001b[39m] \u001b[38;5;241m=\u001b[39m joblib\n\u001b[0;32m----> 5\u001b[0m model1 \u001b[38;5;241m=\u001b[39m \u001b[43mjoblib\u001b[49m\u001b[38;5;241;43m.\u001b[39;49m\u001b[43mload\u001b[49m\u001b[43m(\u001b[49m\u001b[43mos\u001b[49m\u001b[38;5;241;43m.\u001b[39;49m\u001b[43mpath\u001b[49m\u001b[38;5;241;43m.\u001b[39;49m\u001b[43mjoin\u001b[49m\u001b[43m(\u001b[49m\u001b[43mmodels_path\u001b[49m\u001b[43m,\u001b[49m\u001b[43m \u001b[49m\u001b[43mnb_text_2\u001b[49m\u001b[43m)\u001b[49m\u001b[43m)\u001b[49m \n",
      "File \u001b[0;32m~/miniforge3/envs/C06_py310/lib/python3.10/site-packages/joblib/numpy_pickle.py:658\u001b[0m, in \u001b[0;36mload\u001b[0;34m(filename, mmap_mode)\u001b[0m\n\u001b[1;32m    652\u001b[0m             \u001b[38;5;28;01mif\u001b[39;00m \u001b[38;5;28misinstance\u001b[39m(fobj, \u001b[38;5;28mstr\u001b[39m):\n\u001b[1;32m    653\u001b[0m                 \u001b[38;5;66;03m# if the returned file object is a string, this means we\u001b[39;00m\n\u001b[1;32m    654\u001b[0m                 \u001b[38;5;66;03m# try to load a pickle file generated with an version of\u001b[39;00m\n\u001b[1;32m    655\u001b[0m                 \u001b[38;5;66;03m# Joblib so we load it with joblib compatibility function.\u001b[39;00m\n\u001b[1;32m    656\u001b[0m                 \u001b[38;5;28;01mreturn\u001b[39;00m load_compatibility(fobj)\n\u001b[0;32m--> 658\u001b[0m             obj \u001b[38;5;241m=\u001b[39m \u001b[43m_unpickle\u001b[49m\u001b[43m(\u001b[49m\u001b[43mfobj\u001b[49m\u001b[43m,\u001b[49m\u001b[43m \u001b[49m\u001b[43mfilename\u001b[49m\u001b[43m,\u001b[49m\u001b[43m \u001b[49m\u001b[43mmmap_mode\u001b[49m\u001b[43m)\u001b[49m\n\u001b[1;32m    659\u001b[0m \u001b[38;5;28;01mreturn\u001b[39;00m obj\n",
      "File \u001b[0;32m~/miniforge3/envs/C06_py310/lib/python3.10/site-packages/joblib/numpy_pickle.py:577\u001b[0m, in \u001b[0;36m_unpickle\u001b[0;34m(fobj, filename, mmap_mode)\u001b[0m\n\u001b[1;32m    575\u001b[0m obj \u001b[38;5;241m=\u001b[39m \u001b[38;5;28;01mNone\u001b[39;00m\n\u001b[1;32m    576\u001b[0m \u001b[38;5;28;01mtry\u001b[39;00m:\n\u001b[0;32m--> 577\u001b[0m     obj \u001b[38;5;241m=\u001b[39m \u001b[43munpickler\u001b[49m\u001b[38;5;241;43m.\u001b[39;49m\u001b[43mload\u001b[49m\u001b[43m(\u001b[49m\u001b[43m)\u001b[49m\n\u001b[1;32m    578\u001b[0m     \u001b[38;5;28;01mif\u001b[39;00m unpickler\u001b[38;5;241m.\u001b[39mcompat_mode:\n\u001b[1;32m    579\u001b[0m         warnings\u001b[38;5;241m.\u001b[39mwarn(\u001b[38;5;124m\"\u001b[39m\u001b[38;5;124mThe file \u001b[39m\u001b[38;5;124m'\u001b[39m\u001b[38;5;132;01m%s\u001b[39;00m\u001b[38;5;124m'\u001b[39m\u001b[38;5;124m has been generated with a \u001b[39m\u001b[38;5;124m\"\u001b[39m\n\u001b[1;32m    580\u001b[0m                       \u001b[38;5;124m\"\u001b[39m\u001b[38;5;124mjoblib version less than 0.10. \u001b[39m\u001b[38;5;124m\"\u001b[39m\n\u001b[1;32m    581\u001b[0m                       \u001b[38;5;124m\"\u001b[39m\u001b[38;5;124mPlease regenerate this pickle file.\u001b[39m\u001b[38;5;124m\"\u001b[39m\n\u001b[1;32m    582\u001b[0m                       \u001b[38;5;241m%\u001b[39m filename,\n\u001b[1;32m    583\u001b[0m                       \u001b[38;5;167;01mDeprecationWarning\u001b[39;00m, stacklevel\u001b[38;5;241m=\u001b[39m\u001b[38;5;241m3\u001b[39m)\n",
      "File \u001b[0;32m~/miniforge3/envs/C06_py310/lib/python3.10/pickle.py:1213\u001b[0m, in \u001b[0;36m_Unpickler.load\u001b[0;34m(self)\u001b[0m\n\u001b[1;32m   1211\u001b[0m             \u001b[38;5;28;01mraise\u001b[39;00m \u001b[38;5;167;01mEOFError\u001b[39;00m\n\u001b[1;32m   1212\u001b[0m         \u001b[38;5;28;01massert\u001b[39;00m \u001b[38;5;28misinstance\u001b[39m(key, bytes_types)\n\u001b[0;32m-> 1213\u001b[0m         \u001b[43mdispatch\u001b[49m\u001b[43m[\u001b[49m\u001b[43mkey\u001b[49m\u001b[43m[\u001b[49m\u001b[38;5;241;43m0\u001b[39;49m\u001b[43m]\u001b[49m\u001b[43m]\u001b[49m(\u001b[38;5;28mself\u001b[39m)\n\u001b[1;32m   1214\u001b[0m \u001b[38;5;28;01mexcept\u001b[39;00m _Stop \u001b[38;5;28;01mas\u001b[39;00m stopinst:\n\u001b[1;32m   1215\u001b[0m     \u001b[38;5;28;01mreturn\u001b[39;00m stopinst\u001b[38;5;241m.\u001b[39mvalue\n",
      "\u001b[0;31mKeyError\u001b[0m: 0"
     ]
    }
   ],
   "source": [
    "# from sklearn.externals import joblib\n",
    "import joblib\n",
    "import sys\n",
    "sys.modules['sklearn.externals.joblib'] = joblib\n",
    "model1 = joblib.load(os.path.join(models_path, nb_text_2)) "
   ]
  },
  {
   "cell_type": "code",
   "execution_count": null,
   "metadata": {
    "scrolled": true
   },
   "outputs": [
    {
     "name": "stdout",
     "output_type": "stream",
     "text": [
      "ceo facebook việt_nam lê diệp kiều trang cho_biết hiện ban giám_đốc facebook hoàn_tất thủ_tục pháp_lý chuẩn_bị thành_lập văn_phòng đại_diện việt trước tuy facebook có_một bộ_phận quản_lý facebook người việt dành_riêng thị_trường việt_nam đóng trụ_sở ở thì nay chuyển văn_phòng về việt_nam giúp hỗ_trợ tốt hơn hoạt_động facebook việt đặc_biệt hoạt_động kinh_doanh quảng_cáo hỗ_trợ doanh_nghiệp start up việt\n"
     ]
    }
   ],
   "source": [
    "test_1_data = text_preprocessing(text)\n",
    "print(test_1_data)"
   ]
  },
  {
   "cell_type": "code",
   "execution_count": null,
   "metadata": {},
   "outputs": [
    {
     "ename": "NameError",
     "evalue": "name 'model1' is not defined",
     "output_type": "error",
     "traceback": [
      "\u001b[0;31m---------------------------------------------------------------------------\u001b[0m",
      "\u001b[0;31mNameError\u001b[0m                                 Traceback (most recent call last)",
      "Cell \u001b[0;32mIn[64], line 1\u001b[0m\n\u001b[0;32m----> 1\u001b[0m text_test_1 \u001b[38;5;241m=\u001b[39m \u001b[43mmodel1\u001b[49m\u001b[38;5;241m.\u001b[39mpredict_proba([test_1_data])\n\u001b[1;32m      2\u001b[0m text_test_2 \u001b[38;5;241m=\u001b[39m model1\u001b[38;5;241m.\u001b[39mpredict([test_1_data])\n\u001b[1;32m      3\u001b[0m \u001b[38;5;28mprint\u001b[39m(text_test_1)\n",
      "\u001b[0;31mNameError\u001b[0m: name 'model1' is not defined"
     ]
    }
   ],
   "source": [
    "text_test_1 = model1.predict_proba([test_1_data])\n",
    "text_test_2 = model1.predict([test_1_data])\n",
    "print(text_test_1)\n",
    "print(text_test_2)"
   ]
  },
  {
   "cell_type": "code",
   "execution_count": null,
   "metadata": {
    "scrolled": true
   },
   "outputs": [
    {
     "name": "stdout",
     "output_type": "stream",
     "text": [
      "['a320' 'a320 số_hiệu' 'a321' ... 'ứng_viên khác' 'ứng_viên trúng_cử'\n",
      " 'ứng_viên tổng_thống']\n",
      "[11305 43421 44258 ... 34584 34583     0]\n",
      "['facebook' 'việt' 'văn_phòng' 'việt_nam' 'hỗ_trợ' 'hoạt_động' 'pháp_lý'\n",
      " 'lê diệp' 'bộ_phận quản_lý' 'văn_phòng về']\n"
     ]
    }
   ],
   "source": [
    "# print(model1.get_params()['tfidfvec'])\n",
    "# top_key_word_1 = model1([test_1_data])\n",
    "feature_array = np.array(model1.get_params()['tfidfvect'].get_feature_names())\n",
    "print(feature_array)\n",
    "response = model1.get_params()['tfidfvect'].transform([test_1_data])\n",
    "tfidf_sorting = np.argsort(response.toarray()).flatten()[::-1]\n",
    "\n",
    "\n",
    "print(tfidf_sorting)\n",
    "\n",
    "top_n = feature_array[tfidf_sorting][:10]\n",
    "print(top_n)"
   ]
  },
  {
   "cell_type": "code",
   "execution_count": null,
   "metadata": {
    "scrolled": true
   },
   "outputs": [
    {
     "data": {
      "text/plain": [
       "array(['facebook', 'việt', 'văn_phòng', 'việt_nam', 'hỗ_trợ', 'hoạt_động',\n",
       "       'pháp_lý', 'lê diệp', 'bộ_phận quản_lý', 'văn_phòng về',\n",
       "       'quảng_cáo hỗ_trợ', 'đại_diện việt', 'pháp_lý chuẩn_bị',\n",
       "       'doanh_nghiệp start', 'chuẩn_bị thành_lập'], dtype='<U33')"
      ]
     },
     "execution_count": 9,
     "metadata": {},
     "output_type": "execute_result"
    }
   ],
   "source": [
    "get_topn_keywords_model(test_1_data, model1, 15)"
   ]
  },
  {
   "cell_type": "markdown",
   "metadata": {},
   "source": [
    "### Giả sử: \n",
    "lớp TFIDFvectorize trong Pipeline có tên 'tfidfvect', text đã preprocessing, topn phải là số nguyên"
   ]
  },
  {
   "cell_type": "code",
   "execution_count": null,
   "metadata": {},
   "outputs": [],
   "source": [
    "def get_topn_keywords(text, model, topn):\n",
    "    feature_array = np.array(model.get_params()['tfidfvect'].get_feature_names())\n",
    "    response = model.get_params()['tfidfvect'].transform([text])\n",
    "    tfidf_sorting = np.argsort(response.toarray()).flatten()[::-1]\n",
    "    top_n = feature_array[tfidf_sorting][:topn]\n",
    "    return top_n"
   ]
  },
  {
   "cell_type": "code",
   "execution_count": null,
   "metadata": {},
   "outputs": [],
   "source": [
    "tf_idf_keyword = TfidfVectorizer()"
   ]
  },
  {
   "cell_type": "code",
   "execution_count": null,
   "metadata": {},
   "outputs": [],
   "source": [
    "preproc_path = './PreprocessingData'\n",
    "data2_path = 'preproc_vn_news_223_tdlfr.csv'\n",
    "news_data2 = pd.read_csv(os.path.join(preproc_path, data2_path))\n",
    "X_news_data2 = news_data2.drop('label', axis=1)\n",
    "for index in range(list(X_news_data2.shape)[0]):\n",
    "    news = X_news_data2.iat[index, 0]\n",
    "    X_news_data2.iat[index, 0] = text_preprocessing(news)"
   ]
  },
  {
   "cell_type": "code",
   "execution_count": null,
   "metadata": {},
   "outputs": [
    {
     "data": {
      "text/plain": [
       "<223x8948 sparse matrix of type '<class 'numpy.float64'>'\n",
       "\twith 39961 stored elements in Compressed Sparse Row format>"
      ]
     },
     "execution_count": 13,
     "metadata": {},
     "output_type": "execute_result"
    }
   ],
   "source": [
    "tf_idf_keyword.fit_transform(X_news_data2['text'])"
   ]
  },
  {
   "cell_type": "code",
   "execution_count": null,
   "metadata": {},
   "outputs": [
    {
     "data": {
      "text/plain": [
       "<1x8948 sparse matrix of type '<class 'numpy.float64'>'\n",
       "\twith 67 stored elements in Compressed Sparse Row format>"
      ]
     },
     "execution_count": 14,
     "metadata": {},
     "output_type": "execute_result"
    }
   ],
   "source": [
    "tf_idf_keyword.transform([text])"
   ]
  }
 ],
 "metadata": {
  "kernelspec": {
   "display_name": "C06_py310",
   "language": "python",
   "name": "python3"
  },
  "language_info": {
   "codemirror_mode": {
    "name": "ipython",
    "version": 3
   },
   "file_extension": ".py",
   "mimetype": "text/x-python",
   "name": "python",
   "nbconvert_exporter": "python",
   "pygments_lexer": "ipython3",
   "version": "3.12.5"
  }
 },
 "nbformat": 4,
 "nbformat_minor": 2
}
